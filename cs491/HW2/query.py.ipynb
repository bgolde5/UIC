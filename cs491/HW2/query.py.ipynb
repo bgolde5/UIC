{
 "cells": [
  {
   "cell_type": "code",
   "execution_count": 22,
   "metadata": {
    "collapsed": false
   },
   "outputs": [
    {
     "ename": "TypeError",
     "evalue": "__init__() takes 0 positional arguments but 1 was given",
     "output_type": "error",
     "traceback": [
      "\u001b[0;31m---------------------------------------------------------------------------\u001b[0m",
      "\u001b[0;31mTypeError\u001b[0m                                 Traceback (most recent call last)",
      "\u001b[0;32m<ipython-input-22-d317a1f9c066>\u001b[0m in \u001b[0;36m<module>\u001b[0;34m()\u001b[0m\n\u001b[1;32m     21\u001b[0m \u001b[0;34m\u001b[0m\u001b[0m\n\u001b[1;32m     22\u001b[0m \u001b[0;32mif\u001b[0m \u001b[0m__name__\u001b[0m \u001b[0;34m==\u001b[0m \u001b[0;34m'__main__'\u001b[0m\u001b[0;34m:\u001b[0m\u001b[0;34m\u001b[0m\u001b[0m\n\u001b[0;32m---> 23\u001b[0;31m     \u001b[0mcleaner\u001b[0m \u001b[0;34m=\u001b[0m \u001b[0mDataCleaner\u001b[0m\u001b[0;34m(\u001b[0m\u001b[0;34m)\u001b[0m\u001b[0;34m\u001b[0m\u001b[0m\n\u001b[0m",
      "\u001b[0;31mTypeError\u001b[0m: __init__() takes 0 positional arguments but 1 was given"
     ]
    }
   ],
   "source": [
    "import clean\n",
    "from clean import DataCleaner\n",
    "\n",
    "# # data has been cleaned and is ready for queries\n",
    "# clean_data = get_clean_data('class.txt')\n",
    "\n",
    "# ## Query 1\n",
    "# classes_list = build_classes_list(clean_data)\n",
    "# classes_mapping = entity_resolution(classes_list)\n",
    "# print(\"Query 1 results: {0}\".format(len(classes_mapping)))\n",
    "\n",
    "# ## Query 2\n",
    "# print(\"Query 2 results: \", end=\"\")\n",
    "# classes = clean_data['Theys']\n",
    "# for i in range(0,len(classes)-2):\n",
    "#     print(classes[i] + \", \", end=\"\")\n",
    "# print(classes[len(classes)-1])\n",
    "\n",
    "# ## Query 3\n",
    "# print(\"Query 3 results: \", end=\"\")\n",
    "\n",
    "if __name__ == '__main__':\n",
    "    cleaner = DataCleaner()"
   ]
  }
 ],
 "metadata": {
  "kernelspec": {
   "display_name": "Python 3",
   "language": "python",
   "name": "python3"
  },
  "language_info": {
   "codemirror_mode": {
    "name": "ipython",
    "version": 3
   },
   "file_extension": ".py",
   "mimetype": "text/x-python",
   "name": "python",
   "nbconvert_exporter": "python",
   "pygments_lexer": "ipython3",
   "version": "3.5.1"
  }
 },
 "nbformat": 4,
 "nbformat_minor": 0
}
